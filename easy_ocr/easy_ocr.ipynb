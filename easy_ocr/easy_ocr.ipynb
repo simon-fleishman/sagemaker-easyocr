{
 "cells": [
  {
   "cell_type": "code",
   "execution_count": 1,
   "metadata": {
    "colab": {},
    "colab_type": "code",
    "id": "GvmeK0mRaEXm"
   },
   "outputs": [],
   "source": [
    "import sagemaker\n",
    "import boto3\n",
    "from sagemaker import get_execution_role\n",
    "\n",
    "role = get_execution_role()\n",
    "sagemaker_session = sagemaker.Session()\n",
    "\n",
    "bucket = sagemaker_session.default_bucket()\n",
    "prefix = 'sagemaker/simon-easy-ocr-data'\n",
    "#role = 'arn:aws:iam::294038372338:role/hunkimSagemaker'"
   ]
  },
  {
   "cell_type": "code",
   "execution_count": 2,
   "metadata": {
    "colab": {},
    "colab_type": "code",
    "id": "7gAqoGWLaL9C"
   },
   "outputs": [],
   "source": [
    "#Make a dummy model.tar.gz\n",
    "import tarfile\n",
    "import io\n",
    "\n",
    "with tarfile.open('model.tar.gz', \"w:gz\") as tar:\n",
    "  dummy = b\"dummy\"\n",
    "  info = tarfile.TarInfo('dummy.bin')\n",
    "  info.size = len(dummy)\n",
    "  tar.addfile(info, io.BytesIO(dummy))"
   ]
  },
  {
   "cell_type": "code",
   "execution_count": 3,
   "metadata": {
    "colab": {},
    "colab_type": "code",
    "id": "ziSgVlT_bn5p",
    "tags": []
   },
   "outputs": [
    {
     "name": "stdout",
     "output_type": "stream",
     "text": [
      "input spec (in this case, just an S3 path): s3://sagemaker-us-east-1-611238842315/sagemaker/simon-easy-ocr-data/model.tar.gz\n"
     ]
    }
   ],
   "source": [
    "dummy_model = sagemaker_session.upload_data(path='model.tar.gz', bucket=bucket, key_prefix=prefix)\n",
    "print('input spec (in this case, just an S3 path): {}'.format(dummy_model))"
   ]
  },
  {
   "cell_type": "code",
   "execution_count": 6,
   "metadata": {
    "colab": {},
    "colab_type": "code",
    "id": "d-0lcZeeaEXo",
    "outputId": "4e7731a4-d123-44fb-bdb4-5642c33ea37d",
    "tags": []
   },
   "outputs": [
    {
     "name": "stdout",
     "output_type": "stream",
     "text": [
      "s3://sagemaker-us-east-1-611238842315/sagemaker/simon-easy-ocr-data/model.tar.gz\n"
     ]
    }
   ],
   "source": [
    "from sagemaker.pytorch import PyTorchModel\n",
    "\n",
    "# FIXME: Need to upload Dummy model (perhaps only model.targ.gz)\n",
    "print(dummy_model)\n",
    "model = PyTorchModel(model_data=dummy_model,\n",
    "                     role=role,\n",
    "                     framework_version='1.5.0',\n",
    "                     py_version = \"py3\",\n",
    "                     entry_point='ocr_infer.py',\n",
    "                     source_dir='code')"
   ]
  },
  {
   "cell_type": "code",
   "execution_count": 7,
   "metadata": {
    "colab": {},
    "colab_type": "code",
    "id": "xE27Z1SHaEXr",
    "outputId": "a6ef955e-6c95-4bf6-8595-531dfe91a0e9",
    "tags": []
   },
   "outputs": [
    {
     "name": "stdout",
     "output_type": "stream",
     "text": [
      "------------------!CPU times: user 559 ms, sys: 22.3 ms, total: 582 ms\n",
      "Wall time: 9min 3s\n"
     ]
    }
   ],
   "source": [
    "%%time\n",
    "predictor = model.deploy(initial_instance_count=1, instance_type='ml.g4dn.xlarge')"
   ]
  },
  {
   "cell_type": "code",
   "execution_count": 8,
   "metadata": {
    "colab": {},
    "colab_type": "code",
    "id": "JT7KLU_raEXt",
    "outputId": "07d7c6ae-6fca-45fb-fac3-73d0c7b8d4a2",
    "tags": []
   },
   "outputs": [
    {
     "name": "stderr",
     "output_type": "stream",
     "text": [
      "The endpoint attribute has been renamed in sagemaker>=2.\n",
      "See: https://sagemaker.readthedocs.io/en/stable/v2.html for details.\n"
     ]
    },
    {
     "name": "stdout",
     "output_type": "stream",
     "text": [
      "pytorch-inference-2021-06-02-17-09-49-490\n",
      "See the logs at https://us-west-2.console.aws.amazon.com/cloudwatch/home?region=us-west-2#logEventViewer:group=/aws/sagemaker/Endpoints/pytorch-inference-2021-06-02-17-09-49-490\n"
     ]
    }
   ],
   "source": [
    "# Get the end point\n",
    "endpoint = predictor.endpoint  \n",
    "print(endpoint)\n",
    "print(\"See the logs at\", \"https://us-west-2.console.aws.amazon.com/cloudwatch/home?region=us-west-2#logEventViewer:group=/aws/sagemaker/Endpoints/\"+ endpoint)"
   ]
  },
  {
   "cell_type": "code",
   "execution_count": 9,
   "metadata": {
    "colab": {},
    "colab_type": "code",
    "id": "KOrXo0oRaEXv",
    "outputId": "c5a43e14-53d5-4712-c9a8-c5d5f204502e",
    "tags": []
   },
   "outputs": [
    {
     "name": "stdout",
     "output_type": "stream",
     "text": [
      "b'[[[[135, 21], [223, 21], [223, 61], [135, 61]], \"\\\\uae40\\\\uc9c4\\\\uc911\", 0.9923191129311097], [[[138, 68], [206, 68], [206, 94], [138, 94]], \"6 hrs\", 0.8211658289798127], [[[799, 151], [937, 151], [937, 189], [799, 189]], \"OBSHD\", 0.7918025384202817], [[[779, 435], [815, 435], [815, 473], [779, 473]], \"N\", 0.8565304563530987], [[[256, 614], [758, 614], [758, 670], [256, 670]], \"\\\\uc798 \\\\ub9de\\\\uc9c0 \\\\uc548\\\\ub294 \\\\uc0ac\\\\ub78c\\\\ub4e4 \\\\ubc11\\\\uc5d0\\\\uc11c\", 0.2126438874973759], [[[360, 670], [656, 670], [656, 726], [360, 726]], \"\\\\uc77c\\\\ud558\\\\uc9c0\\\\ub17c \\\\ub9c8\\\\uc138\\\\uc694\", 0.6879173934738305], [[[274, 800], [344, 800], [344, 824], [274, 824]], \"OBSHD\", 0.8634788661817754], [[[624, 800], [678, 800], [678, 824], [624, 824]], \"OBS |\", 0.19923878283537824], [[[964, 800], [1012, 800], [1012, 824], [964, 824]], \"OBS\", 0.5149565427408263], [[[44, 1032], [220, 1032], [220, 1062], [44, 1062]], \"\\\\ubbf8\\\\uc74c\\\\uc774 \\\\ub04c\\\\ub9ac\\\\ub294 \\\\uc77c\\\\uc744\", 0.2827901428487838], [[[397, 1029], [623, 1029], [623, 1065], [397, 1065]], \"\\\\uadfc\\\\ud560 \\\\ub54c \\\\uae30\\\\ubd84\\\\uc774 \\\\uc911\\\\uc740 N\", 0.5816610652926271], [[[712, 1030], [942, 1030], [942, 1062], [712, 1062]], \"\\\\ubcf8\\\\uc778\\\\uc758 \\\\uc5f4\\\\uc815\\\\uc62c \\\\ub530\\\\ub974\\\\ub294 \\\\uac8c\", 0.23828744336835703], [[[79, 1059], [183, 1059], [183, 1089], [79, 1089]], \"\\\\uc120\\\\ud0dd\\\\ud558\\\\uc138\\\\uc694\", 0.8536243913037355], [[[239, 1073], [269, 1073], [269, 1093], [239, 1093]], \"<\", 0.16075004057471975], [[[246, 1044], [272, 1044], [272, 1076], [246, 1076]], \"N\", 0.6121448355375527], [[[410, 1058], [560, 1058], [560, 1090], [410, 1090]], \"\\\\ud68c\\\\uc0ac\\\\uc5ec\\\\uc57c \\\\ud569\\\\ub2c8\\\\ub2e4\", 0.8603382362510885], [[[746, 1060], [898, 1060], [898, 1090], [746, 1090]], \"\\\\uae30\\\\uc7a5 \\\\uc911\\\\uc694\\\\ud569\\\\ub2c8\\\\ub2e4\", 0.8255287910588792]]'\n",
      "CPU times: user 47.9 ms, sys: 4.33 ms, total: 52.3 ms\n",
      "Wall time: 1.26 s\n"
     ]
    }
   ],
   "source": [
    "%%time\n",
    "import boto3\n",
    "import json\n",
    "\n",
    "client = boto3.client('sagemaker-runtime')\n",
    "\n",
    "img = open('code/example.jpg', 'rb').read()\n",
    "\n",
    "response = client.invoke_endpoint(\n",
    "    EndpointName=endpoint, \n",
    "    ContentType='application/x-image', \n",
    "    #Accept=\"application/json\" ,\n",
    "    Body=bytearray(img)\n",
    ")\n",
    "\n",
    "print(response['Body'].read()) "
   ]
  },
  {
   "cell_type": "code",
   "execution_count": 10,
   "metadata": {
    "colab": {},
    "colab_type": "code",
    "id": "Wo0IovHGaEXx"
   },
   "outputs": [
    {
     "name": "stderr",
     "output_type": "stream",
     "text": [
      "The endpoint attribute has been renamed in sagemaker>=2.\n",
      "See: https://sagemaker.readthedocs.io/en/stable/v2.html for details.\n"
     ]
    }
   ],
   "source": [
    "sagemaker_session.delete_endpoint(predictor.endpoint)"
   ]
  },
  {
   "cell_type": "code",
   "execution_count": 21,
   "metadata": {},
   "outputs": [
    {
     "data": {
      "text/plain": [
       "[{'ResponseMetadata': {'RequestId': '15GPHV1YGHW267EP',\n",
       "   'HostId': 'yz5meepruJt5a5npJ4ot1zlrRuILk/s1xS0fBZA6WQagcNFCsDonm4HuHyWMeL9vMEgsmc76HRw=',\n",
       "   'HTTPStatusCode': 200,\n",
       "   'HTTPHeaders': {'x-amz-id-2': 'yz5meepruJt5a5npJ4ot1zlrRuILk/s1xS0fBZA6WQagcNFCsDonm4HuHyWMeL9vMEgsmc76HRw=',\n",
       "    'x-amz-request-id': '15GPHV1YGHW267EP',\n",
       "    'date': 'Wed, 02 Jun 2021 17:36:01 GMT',\n",
       "    'content-type': 'application/xml',\n",
       "    'transfer-encoding': 'chunked',\n",
       "    'server': 'AmazonS3',\n",
       "    'connection': 'close'},\n",
       "   'RetryAttempts': 0},\n",
       "  'Deleted': [{'Key': 'pytorch-inference-2021-06-02-17-09-48-817/model.tar.gz'},\n",
       "   {'Key': 'sagemaker/simon-easy-ocr-data/model.tar.gz'}]}]"
      ]
     },
     "execution_count": 21,
     "metadata": {},
     "output_type": "execute_result"
    }
   ],
   "source": [
    "bucket_to_delete = boto3.resource('s3').Bucket(bucket)\n",
    "bucket_to_delete.objects.all().delete()"
   ]
  }
 ],
 "metadata": {
  "colab": {
   "name": "easy_ocr.ipynb",
   "provenance": []
  },
  "kernelspec": {
   "display_name": "conda_pytorch_latest_p36",
   "language": "python",
   "name": "conda_pytorch_latest_p36"
  },
  "language_info": {
   "codemirror_mode": {
    "name": "ipython",
    "version": 3
   },
   "file_extension": ".py",
   "mimetype": "text/x-python",
   "name": "python",
   "nbconvert_exporter": "python",
   "pygments_lexer": "ipython3",
   "version": "3.6.13"
  }
 },
 "nbformat": 4,
 "nbformat_minor": 1
}
