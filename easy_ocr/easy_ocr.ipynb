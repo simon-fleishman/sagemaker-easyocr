{
 "cells": [
  {
   "cell_type": "code",
   "execution_count": null,
   "metadata": {
    "colab": {},
    "colab_type": "code",
    "id": "GvmeK0mRaEXm"
   },
   "outputs": [],
   "source": [
    "import sagemaker\n",
    "import boto3\n",
    "from sagemaker import get_execution_role\n",
    "\n",
    "role = get_execution_role()\n",
    "sagemaker_session = sagemaker.Session()\n",
    "\n",
    "bucket = sagemaker_session.default_bucket()\n",
    "prefix = 'sagemaker/simon-easy-ocr-data'\n",
    "#role = 'arn:aws:iam::294038372338:role/hunkimSagemaker'"
   ]
  },
  {
   "cell_type": "code",
   "execution_count": null,
   "metadata": {
    "colab": {},
    "colab_type": "code",
    "id": "7gAqoGWLaL9C"
   },
   "outputs": [],
   "source": [
    "#Make a dummy model.tar.gz\n",
    "import tarfile\n",
    "import io\n",
    "\n",
    "with tarfile.open('model.tar.gz', \"w:gz\") as tar:\n",
    "  dummy = b\"dummy\"\n",
    "  info = tarfile.TarInfo('dummy.bin')\n",
    "  info.size = len(dummy)\n",
    "  tar.addfile(info, io.BytesIO(dummy))"
   ]
  },
  {
   "cell_type": "code",
   "execution_count": null,
   "metadata": {
    "colab": {},
    "colab_type": "code",
    "id": "ziSgVlT_bn5p",
    "tags": []
   },
   "outputs": [],
   "source": [
    "dummy_model = sagemaker_session.upload_data(path='model.tar.gz', bucket=bucket, key_prefix=prefix)\n",
    "print('input spec (in this case, just an S3 path): {}'.format(dummy_model))"
   ]
  },
  {
   "cell_type": "code",
   "execution_count": null,
   "metadata": {
    "colab": {},
    "colab_type": "code",
    "id": "d-0lcZeeaEXo",
    "outputId": "4e7731a4-d123-44fb-bdb4-5642c33ea37d",
    "tags": []
   },
   "outputs": [],
   "source": [
    "from sagemaker.pytorch import PyTorchModel\n",
    "\n",
    "# FIXME: Need to upload Dummy model (perhaps only model.targ.gz)\n",
    "print(dummy_model)\n",
    "model = PyTorchModel(model_data=dummy_model,\n",
    "                     role=role,\n",
    "                     framework_version='1.5.0',\n",
    "                     py_version = \"py3\",\n",
    "                     entry_point='ocr_infer.py',\n",
    "                     source_dir='code')"
   ]
  },
  {
   "cell_type": "code",
   "execution_count": null,
   "metadata": {
    "colab": {},
    "colab_type": "code",
    "id": "xE27Z1SHaEXr",
    "outputId": "a6ef955e-6c95-4bf6-8595-531dfe91a0e9",
    "tags": []
   },
   "outputs": [],
   "source": [
    "%%time\n",
    "predictor = model.deploy(initial_instance_count=1, instance_type='ml.g4dn.xlarge')"
   ]
  },
  {
   "cell_type": "code",
   "execution_count": null,
   "metadata": {
    "colab": {},
    "colab_type": "code",
    "id": "JT7KLU_raEXt",
    "outputId": "07d7c6ae-6fca-45fb-fac3-73d0c7b8d4a2",
    "tags": []
   },
   "outputs": [],
   "source": [
    "# Get the end point\n",
    "endpoint = predictor.endpoint  \n",
    "print(endpoint)\n",
    "print(\"See the logs at\", \"https://us-east-1.console.aws.amazon.com/cloudwatch/home?region=us-east-1#logEventViewer:group=/aws/sagemaker/Endpoints/\"+ endpoint)"
   ]
  },
  {
   "cell_type": "code",
   "execution_count": null,
   "metadata": {
    "colab": {},
    "colab_type": "code",
    "id": "KOrXo0oRaEXv",
    "outputId": "c5a43e14-53d5-4712-c9a8-c5d5f204502e",
    "tags": []
   },
   "outputs": [],
   "source": [
    "%%time\n",
    "import boto3\n",
    "import json\n",
    "\n",
    "client = boto3.client('sagemaker-runtime')\n",
    "\n",
    "img = open('code/example.jpg', 'rb').read()\n",
    "\n",
    "response = client.invoke_endpoint(\n",
    "    EndpointName=endpoint, \n",
    "    ContentType='application/x-image', \n",
    "    #Accept=\"application/json\" ,\n",
    "    Body=bytearray(img)\n",
    ")\n",
    "\n",
    "print(response['Body'].read()) "
   ]
  },
  {
   "cell_type": "code",
   "execution_count": null,
   "metadata": {
    "colab": {},
    "colab_type": "code",
    "id": "Wo0IovHGaEXx"
   },
   "outputs": [],
   "source": [
    "sagemaker_session.delete_endpoint(predictor.endpoint)"
   ]
  },
  {
   "cell_type": "code",
   "execution_count": null,
   "metadata": {},
   "outputs": [],
   "source": [
    "bucket_to_delete = boto3.resource('s3').Bucket(bucket)\n",
    "bucket_to_delete.objects.all().delete()"
   ]
  }
 ],
 "metadata": {
  "colab": {
   "name": "easy_ocr.ipynb",
   "provenance": []
  },
  "kernelspec": {
   "display_name": "Python 3",
   "language": "python",
   "name": "python3"
  },
  "language_info": {
   "codemirror_mode": {
    "name": "ipython",
    "version": 3
   },
   "file_extension": ".py",
   "mimetype": "text/x-python",
   "name": "python",
   "nbconvert_exporter": "python",
   "pygments_lexer": "ipython3",
   "version": "3.7.3"
  }
 },
 "nbformat": 4,
 "nbformat_minor": 1
}
