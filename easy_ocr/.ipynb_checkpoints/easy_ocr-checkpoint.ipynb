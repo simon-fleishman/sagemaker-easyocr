{
 "cells": [
  {
   "cell_type": "code",
   "execution_count": 1,
   "metadata": {},
   "outputs": [
    {
     "name": "stdout",
     "output_type": "stream",
     "text": [
      "Hello\n"
     ]
    }
   ],
   "source": [
    "print(\"Hello\")"
   ]
  },
  {
   "cell_type": "code",
   "execution_count": 1,
   "metadata": {
    "colab": {},
    "colab_type": "code",
    "id": "l6EAnkGbaEXi",
    "outputId": "c36afdf3-872b-438a-9b2c-79846786fced",
    "tags": []
   },
   "outputs": [
    {
     "name": "stdout",
     "output_type": "stream",
     "text": [
      "\u001b[33mYou are using pip version 19.0.3, however version 20.2b1 is available.\n",
      "You should consider upgrading via the 'pip install --upgrade pip' command.\u001b[0m\n"
     ]
    }
   ],
   "source": [
    "!pip -q install sagemaker sagemaker[local]"
   ]
  },
  {
   "cell_type": "code",
   "execution_count": 2,
   "metadata": {
    "colab": {},
    "colab_type": "code",
    "id": "GvmeK0mRaEXm"
   },
   "outputs": [],
   "source": [
    "import sagemaker\n",
    "import boto3\n",
    "\n",
    "sagemaker_session = sagemaker.Session()\n",
    "\n",
    "bucket = sagemaker_session.default_bucket()\n",
    "prefix = 'sagemaker/hunkim-easy-ocr-data'\n",
    "role = 'arn:aws:iam::294038372338:role/hunkimSagemaker'"
   ]
  },
  {
   "cell_type": "code",
   "execution_count": 3,
   "metadata": {
    "colab": {},
    "colab_type": "code",
    "id": "7gAqoGWLaL9C"
   },
   "outputs": [],
   "source": [
    "#Make a dummy model.tar.gz\n",
    "import tarfile\n",
    "import io\n",
    "\n",
    "with tarfile.open('model.tar.gz', \"w:gz\") as tar:\n",
    "  dummy = b\"dummy\"\n",
    "  info = tarfile.TarInfo('dummy.bin')\n",
    "  info.size = len(dummy)\n",
    "  tar.addfile(info, io.BytesIO(dummy))"
   ]
  },
  {
   "cell_type": "code",
   "execution_count": 4,
   "metadata": {
    "colab": {},
    "colab_type": "code",
    "id": "ziSgVlT_bn5p",
    "tags": []
   },
   "outputs": [
    {
     "name": "stderr",
     "output_type": "stream",
     "text": [
      "'upload_data' method will be deprecated in favor of 'S3Uploader' class (https://sagemaker.readthedocs.io/en/stable/s3.html#sagemaker.s3.S3Uploader) in SageMaker Python SDK v2.\n",
      "input spec (in this case, just an S3 path): s3://sagemaker-us-west-2-294038372338/sagemaker/hunkim-easy-ocr-data/model.tar.gz\n"
     ]
    }
   ],
   "source": [
    "dummy_model = sagemaker_session.upload_data(path='model.tar.gz', bucket=bucket, key_prefix=prefix)\n",
    "print('input spec (in this case, just an S3 path): {}'.format(dummy_model))"
   ]
  },
  {
   "cell_type": "code",
   "execution_count": 5,
   "metadata": {
    "colab": {},
    "colab_type": "code",
    "id": "d-0lcZeeaEXo",
    "outputId": "4e7731a4-d123-44fb-bdb4-5642c33ea37d",
    "tags": []
   },
   "outputs": [
    {
     "name": "stderr",
     "output_type": "stream",
     "text": [
      "Parameter image will be renamed to image_uri in SageMaker Python SDK v2.\n",
      "s3://sagemaker-us-west-2-294038372338/pytorch-training-2020-06-14-12-08-26-889/output/model.tar.gz\n"
     ]
    }
   ],
   "source": [
    "from sagemaker.pytorch import PyTorchModel\n",
    "\n",
    "# FIXME: Need to upload Dummy model (perhaps only model.targ.gz)\n",
    "print(dummy_model)\n",
    "model = PyTorchModel(model_data=dummy_model,\n",
    "                     role=role,\n",
    "                     framework_version='1.5.0',\n",
    "                     entry_point='ocr_infer.py',\n",
    "                     source_dir='code')"
   ]
  },
  {
   "cell_type": "code",
   "execution_count": 6,
   "metadata": {
    "colab": {},
    "colab_type": "code",
    "id": "xE27Z1SHaEXr",
    "outputId": "a6ef955e-6c95-4bf6-8595-531dfe91a0e9",
    "tags": []
   },
   "outputs": [
    {
     "name": "stderr",
     "output_type": "stream",
     "text": [
      "'create_image_uri' will be deprecated in favor of 'ImageURIProvider' class in SageMaker Python SDK v2.\n",
      "---------------!CPU times: user 453 ms, sys: 73.5 ms, total: 527 ms\n",
      "Wall time: 7min 49s\n"
     ]
    }
   ],
   "source": [
    "%%time\n",
    "predictor = model.deploy(initial_instance_count=1, instance_type='ml.g4dn.xlarge')"
   ]
  },
  {
   "cell_type": "code",
   "execution_count": 7,
   "metadata": {
    "colab": {},
    "colab_type": "code",
    "id": "JT7KLU_raEXt",
    "outputId": "07d7c6ae-6fca-45fb-fac3-73d0c7b8d4a2",
    "tags": []
   },
   "outputs": [
    {
     "name": "stdout",
     "output_type": "stream",
     "text": [
      "pytorch-inference-2020-07-09-09-02-03-598\n",
      "See the logs at https://us-west-2.console.aws.amazon.com/cloudwatch/home?region=us-west-2#logEventViewer:group=/aws/sagemaker/Endpoints/pytorch-inference-2020-07-09-09-02-03-598\n"
     ]
    }
   ],
   "source": [
    "# Get the end point\n",
    "endpoint = predictor.endpoint  \n",
    "print(endpoint)\n",
    "print(\"See the logs at\", \"https://us-west-2.console.aws.amazon.com/cloudwatch/home?region=us-west-2#logEventViewer:group=/aws/sagemaker/Endpoints/\"+ endpoint)"
   ]
  },
  {
   "cell_type": "code",
   "execution_count": 8,
   "metadata": {
    "colab": {},
    "colab_type": "code",
    "id": "KOrXo0oRaEXv",
    "outputId": "c5a43e14-53d5-4712-c9a8-c5d5f204502e",
    "tags": []
   },
   "outputs": [
    {
     "name": "stdout",
     "output_type": "stream",
     "text": [
      "b'[[[[135, 21], [223, 21], [223, 61], [135, 61]], \"\\\\uae40\\\\uc9c4\\\\uc911\", 0.9717708826065063], [[[138, 68], [206, 68], [206, 94], [138, 94]], \"6 hrs\", 0.68975830078125], [[[799, 151], [937, 151], [937, 189], [799, 189]], \"OBS\\\\uc058\", 0.18216069042682648], [[[779, 435], [815, 435], [815, 473], [779, 473]], \"N\", 0.9850679039955139], [[[256, 614], [758, 614], [758, 670], [256, 670]], \"\\\\uc798\\\\ub9de\\\\uc9c0 \\\\uc54a\\\\ub294 \\\\uc0ac\\\\ub78c\\\\ub4e4 \\\\ubc11\\\\uc5d0\\\\uc11c\", 0.11080808937549591], [[[360, 670], [656, 670], [656, 726], [360, 726]], \"\\\\uc77c\\\\ud558\\\\uc9c0\\\\ub294 \\\\ub9c8\\\\uc138\\\\uc694\", 0.5123369693756104], [[[274, 800], [344, 800], [344, 824], [274, 824]], \"OB5HD\", 0.48129624128341675], [[[624, 800], [678, 800], [678, 824], [624, 824]], \"OB5}\", 0.1305008828639984], [[[964, 800], [1012, 800], [1012, 824], [964, 824]], \"OB5\", 0.5719876885414124], [[[397, 1029], [623, 1029], [623, 1065], [397, 1065]], \"\\\\uadfc\\\\ud560 \\\\ub54c\\\\uae30\\\\ubd84\\\\uc774 \\\\uc88b\\\\uc740 N\", 0.06049000099301338], [[[712, 1030], [942, 1030], [942, 1062], [712, 1062]], \"\\\\ubcf8\\\\uc778\\\\uc758 \\\\uc5f4\\\\uc815\\\\uc744 \\\\ub530\\\\ub974\\\\ub294 \\\\uac8c{\", 0.13631023466587067], [[[44, 1032], [220, 1032], [220, 1062], [44, 1062]], \"\\\\ubbf8\\\\ubbd0\\\\uc774 \\\\ub04c\\\\ub9acl\\\\ub294 \\\\uc77c\\\\uc744\", 0.17053140699863434], [[[246, 1044], [272, 1044], [272, 1076], [246, 1076]], \"N\", 0.8140922784805298], [[[410, 1058], [560, 1058], [560, 1090], [410, 1090]], \"\\\\ud68c\\\\uc0ac\\\\uc5ec\\\\uc57c \\\\ud569\\\\ub2c8\\\\ub2e4\", 0.29163888096809387], [[[79, 1059], [183, 1059], [183, 1089], [79, 1089]], \"\\\\uc120\\\\ud0dd\\\\ud558\\\\uc138\\\\uc694\", 0.9310794472694397], [[[746, 1060], [898, 1060], [898, 1090], [746, 1090]], \"\\\\uac00\\\\uc7a5 \\\\uc911\\\\uc694\\\\ud569L\\\\ub2e4\", 0.18217745423316956], [[[239, 1073], [269, 1073], [269, 1093], [239, 1093]], \"\\\\u318d\", 0.056712958961725235]]'\n",
      "CPU times: user 38.6 ms, sys: 16.3 ms, total: 54.9 ms\n",
      "Wall time: 2.59 s\n"
     ]
    }
   ],
   "source": [
    "%%time\n",
    "import boto3\n",
    "import json\n",
    "\n",
    "client = boto3.client('sagemaker-runtime')\n",
    "\n",
    "img = open('code/example.jpg', 'rb').read()\n",
    "\n",
    "response = client.invoke_endpoint(\n",
    "    EndpointName=endpoint, \n",
    "    ContentType='application/x-image', \n",
    "    #Accept=\"application/json\" ,\n",
    "    Body=bytearray(img)\n",
    ")\n",
    "\n",
    "print(response['Body'].read()) "
   ]
  },
  {
   "cell_type": "code",
   "execution_count": 9,
   "metadata": {
    "colab": {},
    "colab_type": "code",
    "id": "Wo0IovHGaEXx"
   },
   "outputs": [],
   "source": [
    "sagemaker_session.delete_endpoint(predictor.endpoint)"
   ]
  }
 ],
 "metadata": {
  "colab": {
   "name": "easy_ocr.ipynb",
   "provenance": []
  },
  "kernelspec": {
   "display_name": "Python 3",
   "language": "python",
   "name": "python3"
  },
  "language_info": {
   "codemirror_mode": {
    "name": "ipython",
    "version": 3
   },
   "file_extension": ".py",
   "mimetype": "text/x-python",
   "name": "python",
   "nbconvert_exporter": "python",
   "pygments_lexer": "ipython3",
   "version": "3.7.3"
  }
 },
 "nbformat": 4,
 "nbformat_minor": 1
}
