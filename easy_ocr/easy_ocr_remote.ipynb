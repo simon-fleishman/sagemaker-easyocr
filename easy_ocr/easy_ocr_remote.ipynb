{
 "cells": [
  {
   "cell_type": "code",
   "execution_count": 44,
   "metadata": {
    "colab": {},
    "colab_type": "code",
    "id": "GvmeK0mRaEXm",
    "scrolled": true
   },
   "outputs": [],
   "source": [
    "import sagemaker\n",
    "import boto3\n",
    "from sagemaker import get_execution_role\n",
    "import os\n",
    "\n",
    "os.environ['AWS_DEFAULT_REGION'] = 'us-east-1'\n",
    "# additionally aws key are in ~/.aws/credentials\n",
    "'''\n",
    "[default]\n",
    "aws_access_key_id=XXXXXXXXXXXXXXXXXXXX\n",
    "aws_secret_access_key=yyyyyyyyyyyyyyyyyyyyyyyyyyyyyyyyyyyyyyyy\n",
    "'''\n",
    "\n",
    "# https://docs.aws.amazon.com/sagemaker/latest/dg/sagemaker-roles.html\n",
    "\n",
    "#try:\n",
    "#    role = sagemaker.get_execution_role()\n",
    "#except ValueError:\n",
    "#    iam = boto3.client('iam')    \n",
    "#    # The role was previously created from inside aws sagemaker notebook\n",
    "#    # Also attached AmazonSageMakerFullAccess policy and detached AmazonSageMaker-ExecutionPolicy-20210530T161933    \n",
    "#    role = iam.get_role(RoleName='AmazonSageMaker-ExecutionRole-20210530T161933')['Role']['Arn']\n",
    "\n",
    "iam = boto3.client('iam')\n",
    "# The role was previously created from inside aws sagemaker notebook\n",
    "# Also attached AmazonSageMakerFullAccess policy and detached AmazonSageMaker-ExecutionPolicy-20210530T161933    \n",
    "role = iam.get_role(RoleName='AmazonSageMaker-ExecutionRole-20210530T161933')['Role']['Arn']\n",
    "\n",
    "sagemaker_session = sagemaker.Session()\n",
    "bucket = sagemaker_session.default_bucket()\n",
    "prefix = 'sagemaker/simon-easy-ocr-data'\n",
    "#role = 'arn:aws:iam::294038372338:role/hunkimSagemaker' # this was hard coded in the original code"
   ]
  },
  {
   "cell_type": "code",
   "execution_count": 45,
   "metadata": {
    "colab": {},
    "colab_type": "code",
    "id": "7gAqoGWLaL9C"
   },
   "outputs": [],
   "source": [
    "#Make a dummy model.tar.gz\n",
    "import tarfile\n",
    "import io\n",
    "\n",
    "with tarfile.open('model.tar.gz', \"w:gz\") as tar:\n",
    "  dummy = b\"dummy\"\n",
    "  info = tarfile.TarInfo('dummy.bin')\n",
    "  info.size = len(dummy)\n",
    "  tar.addfile(info, io.BytesIO(dummy))"
   ]
  },
  {
   "cell_type": "code",
   "execution_count": 46,
   "metadata": {
    "colab": {},
    "colab_type": "code",
    "id": "ziSgVlT_bn5p",
    "tags": []
   },
   "outputs": [
    {
     "name": "stdout",
     "output_type": "stream",
     "text": [
      "input spec (in this case, just an S3 path): s3://sagemaker-us-east-1-611238842315/sagemaker/simon-easy-ocr-data/model.tar.gz\n"
     ]
    }
   ],
   "source": [
    "dummy_model = sagemaker_session.upload_data(path='model.tar.gz', bucket=bucket, key_prefix=prefix)\n",
    "print('input spec (in this case, just an S3 path): {}'.format(dummy_model))"
   ]
  },
  {
   "cell_type": "code",
   "execution_count": 47,
   "metadata": {
    "colab": {},
    "colab_type": "code",
    "id": "d-0lcZeeaEXo",
    "outputId": "4e7731a4-d123-44fb-bdb4-5642c33ea37d",
    "tags": []
   },
   "outputs": [
    {
     "name": "stdout",
     "output_type": "stream",
     "text": [
      "s3://sagemaker-us-east-1-611238842315/sagemaker/simon-easy-ocr-data/model.tar.gz\n"
     ]
    }
   ],
   "source": [
    "from sagemaker.pytorch import PyTorchModel\n",
    "\n",
    "# FIXME: Need to upload Dummy model (perhaps only model.targ.gz)\n",
    "print(dummy_model)\n",
    "model = PyTorchModel(model_data=dummy_model,\n",
    "                     role=role,\n",
    "                     framework_version='1.5.0',\n",
    "                     py_version = \"py3\",\n",
    "                     entry_point='ocr_infer.py',\n",
    "                     source_dir='code')"
   ]
  },
  {
   "cell_type": "code",
   "execution_count": 48,
   "metadata": {
    "colab": {},
    "colab_type": "code",
    "id": "xE27Z1SHaEXr",
    "outputId": "a6ef955e-6c95-4bf6-8595-531dfe91a0e9",
    "tags": []
   },
   "outputs": [
    {
     "name": "stdout",
     "output_type": "stream",
     "text": [
      "---------------!CPU times: user 2.37 s, sys: 372 ms, total: 2.75 s\n",
      "Wall time: 7min 38s\n"
     ]
    }
   ],
   "source": [
    "%%time\n",
    "predictor = model.deploy(initial_instance_count=1, instance_type='ml.g4dn.xlarge')"
   ]
  },
  {
   "cell_type": "code",
   "execution_count": 49,
   "metadata": {
    "colab": {},
    "colab_type": "code",
    "id": "JT7KLU_raEXt",
    "outputId": "07d7c6ae-6fca-45fb-fac3-73d0c7b8d4a2",
    "tags": []
   },
   "outputs": [
    {
     "name": "stderr",
     "output_type": "stream",
     "text": [
      "The endpoint attribute has been renamed in sagemaker>=2.\n",
      "See: https://sagemaker.readthedocs.io/en/stable/v2.html for details.\n"
     ]
    },
    {
     "name": "stdout",
     "output_type": "stream",
     "text": [
      "pytorch-inference-2021-06-08-23-50-05-821\n",
      "See the logs at https://us-east-1.console.aws.amazon.com/cloudwatch/home?region=us-east-1#logEventViewer:group=/aws/sagemaker/Endpoints/pytorch-inference-2021-06-08-23-50-05-821\n"
     ]
    }
   ],
   "source": [
    "# Get the end point\n",
    "endpoint = predictor.endpoint  \n",
    "print(endpoint)\n",
    "print(\"See the logs at\", \"https://us-east-1.console.aws.amazon.com/cloudwatch/home?region=us-east-1#logEventViewer:group=/aws/sagemaker/Endpoints/\"+ endpoint)"
   ]
  },
  {
   "cell_type": "code",
   "execution_count": 51,
   "metadata": {
    "colab": {},
    "colab_type": "code",
    "id": "KOrXo0oRaEXv",
    "outputId": "c5a43e14-53d5-4712-c9a8-c5d5f204502e",
    "scrolled": true,
    "tags": []
   },
   "outputs": [
    {
     "name": "stdout",
     "output_type": "stream",
     "text": [
      "b'[[[[1, 7], [151, 7], [151, 21], [1, 21]], \"Tell me what you want to do_\", 0.7820994141268869]]'\n",
      "CPU times: user 81.7 ms, sys: 13.3 ms, total: 95 ms\n",
      "Wall time: 1.22 s\n"
     ]
    }
   ],
   "source": [
    "%%time\n",
    "import boto3\n",
    "import json\n",
    "\n",
    "client = boto3.client('sagemaker-runtime')\n",
    "\n",
    "img = open('code/example.png', 'rb').read()\n",
    "\n",
    "response = client.invoke_endpoint(\n",
    "    EndpointName=endpoint, \n",
    "    ContentType='application/x-image', \n",
    "    #Accept=\"application/json\" ,\n",
    "    Body=bytearray(img)\n",
    ")\n",
    "\n",
    "print(response['Body'].read()) "
   ]
  },
  {
   "cell_type": "code",
   "execution_count": 52,
   "metadata": {
    "colab": {},
    "colab_type": "code",
    "id": "Wo0IovHGaEXx"
   },
   "outputs": [
    {
     "name": "stderr",
     "output_type": "stream",
     "text": [
      "The endpoint attribute has been renamed in sagemaker>=2.\n",
      "See: https://sagemaker.readthedocs.io/en/stable/v2.html for details.\n"
     ]
    }
   ],
   "source": [
    "sagemaker_session.delete_endpoint(predictor.endpoint)"
   ]
  },
  {
   "cell_type": "code",
   "execution_count": 53,
   "metadata": {},
   "outputs": [
    {
     "data": {
      "text/plain": [
       "[{'ResponseMetadata': {'RequestId': '00Z4T0DZS6AZRVE3',\n",
       "   'HostId': 'CnK5fgz644eMeLyCkeMgnhut6ndFe9o3ungiLDboMOWMMdoW2bmwRHucoQo5K91+sqF0YM2mgqU=',\n",
       "   'HTTPStatusCode': 200,\n",
       "   'HTTPHeaders': {'x-amz-id-2': 'CnK5fgz644eMeLyCkeMgnhut6ndFe9o3ungiLDboMOWMMdoW2bmwRHucoQo5K91+sqF0YM2mgqU=',\n",
       "    'x-amz-request-id': '00Z4T0DZS6AZRVE3',\n",
       "    'date': 'Wed, 09 Jun 2021 00:08:10 GMT',\n",
       "    'content-type': 'application/xml',\n",
       "    'transfer-encoding': 'chunked',\n",
       "    'server': 'AmazonS3',\n",
       "    'connection': 'close'},\n",
       "   'RetryAttempts': 0},\n",
       "  'Deleted': [{'Key': 'pytorch-inference-2021-06-08-23-50-03-534/model.tar.gz'},\n",
       "   {'Key': 'sagemaker/simon-easy-ocr-data/model.tar.gz'}]}]"
      ]
     },
     "execution_count": 53,
     "metadata": {},
     "output_type": "execute_result"
    }
   ],
   "source": [
    "bucket_to_delete = boto3.resource('s3').Bucket(bucket)\n",
    "bucket_to_delete.objects.all().delete()"
   ]
  }
 ],
 "metadata": {
  "colab": {
   "name": "easy_ocr.ipynb",
   "provenance": []
  },
  "kernelspec": {
   "display_name": "Python 3",
   "language": "python",
   "name": "python3"
  },
  "language_info": {
   "codemirror_mode": {
    "name": "ipython",
    "version": 3
   },
   "file_extension": ".py",
   "mimetype": "text/x-python",
   "name": "python",
   "nbconvert_exporter": "python",
   "pygments_lexer": "ipython3",
   "version": "3.7.3"
  }
 },
 "nbformat": 4,
 "nbformat_minor": 1
}
